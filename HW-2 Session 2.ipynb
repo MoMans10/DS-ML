{
 "cells": [
  {
   "cell_type": "code",
   "execution_count": 8,
   "id": "514da088",
   "metadata": {},
   "outputs": [
    {
     "name": "stdout",
     "output_type": "stream",
     "text": [
      "Enter G Amount 2\n",
      "Enter M Amount 3\n",
      "Enter m Amount 4\n",
      "Enter r Amount 2\n",
      "6.0\n"
     ]
    }
   ],
   "source": [
    "G = float(input(\"Enter G Amount \"))\n",
    "M = float(input(\"Enter M Amount \"))\n",
    "m = float(input(\"Enter m Amount \"))\n",
    "r = float(input(\"Enter r Amount \"))\n",
    "F = (G * M * m) / r**2\n",
    "\n",
    "print(F)"
   ]
  },
  {
   "cell_type": "code",
   "execution_count": null,
   "id": "e68fa254",
   "metadata": {},
   "outputs": [],
   "source": []
  }
 ],
 "metadata": {
  "kernelspec": {
   "display_name": "Python 3 (ipykernel)",
   "language": "python",
   "name": "python3"
  },
  "language_info": {
   "codemirror_mode": {
    "name": "ipython",
    "version": 3
   },
   "file_extension": ".py",
   "mimetype": "text/x-python",
   "name": "python",
   "nbconvert_exporter": "python",
   "pygments_lexer": "ipython3",
   "version": "3.11.4"
  }
 },
 "nbformat": 4,
 "nbformat_minor": 5
}
